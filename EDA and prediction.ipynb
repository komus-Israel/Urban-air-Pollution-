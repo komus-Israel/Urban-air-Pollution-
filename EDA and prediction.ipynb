{
 "cells": [
  {
   "cell_type": "code",
   "execution_count": 38,
   "metadata": {},
   "outputs": [],
   "source": [
    "import pandas as pd\n",
    "from datetime import datetime\n",
    "import matplotlib.pyplot as plt\n",
    "%matplotlib inline"
   ]
  },
  {
   "cell_type": "code",
   "execution_count": 27,
   "metadata": {},
   "outputs": [],
   "source": [
    "train = pd.read_csv('Train.csv')"
   ]
  },
  {
   "cell_type": "code",
   "execution_count": 28,
   "metadata": {},
   "outputs": [
    {
     "data": {
      "text/plain": [
       "Index(['Place_ID X Date', 'Date', 'Place_ID', 'target', 'target_min',\n",
       "       'target_max', 'target_variance', 'target_count',\n",
       "       'precipitable_water_entire_atmosphere',\n",
       "       'relative_humidity_2m_above_ground',\n",
       "       'specific_humidity_2m_above_ground', 'temperature_2m_above_ground',\n",
       "       'u_component_of_wind_10m_above_ground',\n",
       "       'v_component_of_wind_10m_above_ground',\n",
       "       'L3_NO2_NO2_column_number_density',\n",
       "       'L3_NO2_NO2_slant_column_number_density',\n",
       "       'L3_NO2_absorbing_aerosol_index', 'L3_NO2_cloud_fraction',\n",
       "       'L3_NO2_sensor_altitude', 'L3_NO2_sensor_azimuth_angle',\n",
       "       'L3_NO2_sensor_zenith_angle', 'L3_NO2_solar_azimuth_angle',\n",
       "       'L3_NO2_solar_zenith_angle',\n",
       "       'L3_NO2_stratospheric_NO2_column_number_density',\n",
       "       'L3_NO2_tropopause_pressure',\n",
       "       'L3_NO2_tropospheric_NO2_column_number_density',\n",
       "       'L3_O3_O3_column_number_density', 'L3_O3_O3_effective_temperature',\n",
       "       'L3_O3_cloud_fraction', 'L3_O3_sensor_azimuth_angle',\n",
       "       'L3_O3_sensor_zenith_angle', 'L3_O3_solar_azimuth_angle',\n",
       "       'L3_O3_solar_zenith_angle', 'L3_CO_CO_column_number_density',\n",
       "       'L3_CO_H2O_column_number_density', 'L3_CO_cloud_height',\n",
       "       'L3_CO_sensor_altitude', 'L3_CO_sensor_azimuth_angle',\n",
       "       'L3_CO_sensor_zenith_angle', 'L3_CO_solar_azimuth_angle',\n",
       "       'L3_CO_solar_zenith_angle', 'L3_HCHO_HCHO_slant_column_number_density',\n",
       "       'L3_HCHO_cloud_fraction', 'L3_HCHO_sensor_azimuth_angle',\n",
       "       'L3_HCHO_sensor_zenith_angle', 'L3_HCHO_solar_azimuth_angle',\n",
       "       'L3_HCHO_solar_zenith_angle',\n",
       "       'L3_HCHO_tropospheric_HCHO_column_number_density',\n",
       "       'L3_HCHO_tropospheric_HCHO_column_number_density_amf',\n",
       "       'L3_CLOUD_cloud_base_height', 'L3_CLOUD_cloud_base_pressure',\n",
       "       'L3_CLOUD_cloud_fraction', 'L3_CLOUD_cloud_optical_depth',\n",
       "       'L3_CLOUD_cloud_top_height', 'L3_CLOUD_cloud_top_pressure',\n",
       "       'L3_CLOUD_sensor_azimuth_angle', 'L3_CLOUD_sensor_zenith_angle',\n",
       "       'L3_CLOUD_solar_azimuth_angle', 'L3_CLOUD_solar_zenith_angle',\n",
       "       'L3_CLOUD_surface_albedo', 'L3_AER_AI_absorbing_aerosol_index',\n",
       "       'L3_AER_AI_sensor_altitude', 'L3_AER_AI_sensor_azimuth_angle',\n",
       "       'L3_AER_AI_sensor_zenith_angle', 'L3_AER_AI_solar_azimuth_angle',\n",
       "       'L3_AER_AI_solar_zenith_angle', 'L3_SO2_SO2_column_number_density',\n",
       "       'L3_SO2_SO2_column_number_density_amf',\n",
       "       'L3_SO2_SO2_slant_column_number_density',\n",
       "       'L3_SO2_absorbing_aerosol_index', 'L3_SO2_cloud_fraction',\n",
       "       'L3_SO2_sensor_azimuth_angle', 'L3_SO2_sensor_zenith_angle',\n",
       "       'L3_SO2_solar_azimuth_angle', 'L3_SO2_solar_zenith_angle',\n",
       "       'L3_CH4_CH4_column_volume_mixing_ratio_dry_air',\n",
       "       'L3_CH4_aerosol_height', 'L3_CH4_aerosol_optical_depth',\n",
       "       'L3_CH4_sensor_azimuth_angle', 'L3_CH4_sensor_zenith_angle',\n",
       "       'L3_CH4_solar_azimuth_angle', 'L3_CH4_solar_zenith_angle'],\n",
       "      dtype='object')"
      ]
     },
     "execution_count": 28,
     "metadata": {},
     "output_type": "execute_result"
    }
   ],
   "source": [
    "train.columns"
   ]
  },
  {
   "cell_type": "code",
   "execution_count": 29,
   "metadata": {},
   "outputs": [],
   "source": [
    "features = ['Date', 'target', 'precipitable_water_entire_atmosphere','relative_humidity_2m_above_ground',\n",
    "           'specific_humidity_2m_above_ground', 'temperature_2m_above_ground','u_component_of_wind_10m_above_ground',\n",
    "           'v_component_of_wind_10m_above_ground','L3_NO2_NO2_column_number_density', 'L3_O3_O3_column_number_density', \n",
    "           'L3_CO_CO_column_number_density','L3_HCHO_tropospheric_HCHO_column_number_density', 'L3_AER_AI_absorbing_aerosol_index',\n",
    "           'L3_SO2_SO2_column_number_density_amf','L3_CH4_CH4_column_volume_mixing_ratio_dry_air']"
   ]
  },
  {
   "cell_type": "code",
   "execution_count": 30,
   "metadata": {},
   "outputs": [],
   "source": [
    "train = train[features]\n"
   ]
  },
  {
   "cell_type": "code",
   "execution_count": 31,
   "metadata": {},
   "outputs": [],
   "source": [
    "train['Date'] = pd.to_datetime(train.Date, format = '%Y-%m-%d')"
   ]
  },
  {
   "cell_type": "code",
   "execution_count": 35,
   "metadata": {},
   "outputs": [],
   "source": [
    "train['Day'] = train.Date.dt.dayofweek\n",
    "train['Month'] = train.Date.dt.month\n",
    "train['Year'] = train.Date.dt.year"
   ]
  },
  {
   "cell_type": "code",
   "execution_count": 74,
   "metadata": {},
   "outputs": [],
   "source": [
    "train.index = train['Date']"
   ]
  },
  {
   "cell_type": "code",
   "execution_count": 76,
   "metadata": {},
   "outputs": [],
   "source": [
    "#humidity = train['relative_humidity_2m_above_ground']\n",
    "#days = train['Day']"
   ]
  },
  {
   "cell_type": "code",
   "execution_count": 73,
   "metadata": {},
   "outputs": [
    {
     "data": {
      "text/plain": [
       "[<matplotlib.lines.Line2D at 0x7f794d72d1d0>]"
      ]
     },
     "execution_count": 73,
     "metadata": {},
     "output_type": "execute_result"
    },
    {
     "data": {
      "image/png": "[encoded data removed]",
      "text/plain": [
       "<Figure size 432x288 with 1 Axes>"
      ]
     },
     "metadata": {
      "needs_background": "light"
     },
     "output_type": "display_data"
    }
   ],
   "source": []
  }
 ],
 "metadata": {
  "kernelspec": {
   "display_name": "Python 3",
   "language": "python",
   "name": "python3"
  },
  "language_info": {
   "codemirror_mode": {
    "name": "ipython",
    "version": 3
   },
   "file_extension": ".py",
   "mimetype": "text/x-python",
   "name": "python",
   "nbconvert_exporter": "python",
   "pygments_lexer": "ipython3",
   "version": "3.6.9"
  }
 },
 "nbformat": 4,
 "nbformat_minor": 4
}
